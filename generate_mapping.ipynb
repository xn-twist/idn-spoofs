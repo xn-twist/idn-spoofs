{
 "cells": [
  {
   "cell_type": "code",
   "execution_count": 1,
   "metadata": {},
   "outputs": [
    {
     "name": "stdout",
     "output_type": "stream",
     "text": [
      "Adding sharp-s char to 'B' char confusable set\n"
     ]
    }
   ],
   "source": [
    "import json\n",
    "import string\n",
    "\n",
    "import homoglyphs\n",
    "\n",
    "\n",
    "def reverse_dict(data_mapping):\n",
    "    new_mapping = {}\n",
    "    for key_char in data_mapping:\n",
    "        unicode_chars = data_mapping[key_char]\n",
    "        for char in unicode_chars:\n",
    "            if new_mapping.get(char):\n",
    "                new_mapping[char].append(key_char)\n",
    "            else:\n",
    "                new_mapping[char] = [key_char]\n",
    "    return new_mapping\n",
    "\n",
    "alphabet = ['LATIN', 'COMMON', 'CYRILLIC']\n",
    "h = homoglyphs.Homoglyphs(alphabet)\n",
    "#alphabet = homoglyphs.Categories.get_alphabet(['LATIN', 'COMMON', 'CYRILLIC'])\n",
    "h.get_table(alphabet)\n",
    "\n",
    "alpha = {}\n",
    "for item in h.table:\n",
    "    if item in string.ascii_letters or item in string.digits:\n",
    "        #print(item, h.table[item])\n",
    "        alpha[item] = list(h.table[item])\n",
    "\n",
    "with open(\"xntwist_unicode_mappings.json\", \"r\") as f:\n",
    "    xntwist_mappings = json.load(f)\n",
    "\n",
    "for char in xntwist_mappings:\n",
    "    if alpha.get(char):\n",
    "        # union of unique set of list items - https://stackoverflow.com/questions/20893916/how-to-get-the-union-of-two-lists-using-list-comprehension\n",
    "        alpha[char] = list(set().union(alpha[char], xntwist_mappings[char]))\n",
    "    else:\n",
    "        alpha[char] = xntwist_mappings[char]\n",
    "    \n",
    "# add Sharp-s char for B missing from unicode dataset\n",
    "# https://en.wikipedia.org/wiki/%C3%9F\n",
    "print(\"Adding sharp-s char to 'B' char confusable set\")\n",
    "# small\n",
    "alpha[\"B\"].append(\"ß\")\n",
    "# capital\n",
    "alpha[\"B\"].append(\"ẞ\")\n",
    "\n",
    "#print(alpha)\n",
    "\n",
    "# convert mapping to Unicode -> ascii indexes using dict reverse function\n",
    "alpha = reverse_dict(alpha)\n",
    "\n",
    "# dump alpha to mappings \n",
    "with open(\"unicode_ascii_mappings.json\", \"w\") as out:\n",
    "    json.dump(alpha, out, indent=2)\n"
   ]
  },
  {
   "cell_type": "code",
   "execution_count": null,
   "metadata": {},
   "outputs": [],
   "source": []
  }
 ],
 "metadata": {
  "kernelspec": {
   "display_name": "Python 3",
   "language": "python",
   "name": "python3"
  },
  "language_info": {
   "codemirror_mode": {
    "name": "ipython",
    "version": 3
   },
   "file_extension": ".py",
   "mimetype": "text/x-python",
   "name": "python",
   "nbconvert_exporter": "python",
   "pygments_lexer": "ipython3",
   "version": "3.8.2"
  }
 },
 "nbformat": 4,
 "nbformat_minor": 4
}
